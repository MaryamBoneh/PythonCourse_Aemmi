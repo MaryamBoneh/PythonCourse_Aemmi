{
  "nbformat": 4,
  "nbformat_minor": 0,
  "metadata": {
    "colab": {
      "name": "Assignment23-PythonCourse.ipynb",
      "provenance": [],
      "collapsed_sections": [],
      "mount_file_id": "1qzwlhfp9y7YCIGyuXoczQWSs7fC5cnkU",
      "authorship_tag": "ABX9TyPdZiDOBHrU02ZoH6hg/hX0",
      "include_colab_link": true
    },
    "kernelspec": {
      "name": "python3",
      "display_name": "Python 3"
    },
    "language_info": {
      "name": "python"
    }
  },
  "cells": [
    {
      "cell_type": "markdown",
      "metadata": {
        "id": "view-in-github",
        "colab_type": "text"
      },
      "source": [
        "<a href=\"https://colab.research.google.com/github/MaryamBoneh/PythonCourse_Aemmi/blob/master/Assignment23/Assignment23_PythonCourse.ipynb\" target=\"_parent\"><img src=\"https://colab.research.google.com/assets/colab-badge.svg\" alt=\"Open In Colab\"/></a>"
      ]
    },
    {
      "cell_type": "code",
      "metadata": {
        "id": "ZzUuMVid-ybK"
      },
      "source": [
        "import os\n",
        "import cv2\n",
        "\n",
        "main_folders = os.listdir('/content/drive/MyDrive/Assignment23/MNIST_persian/')\n",
        "sub_folders = os.listdir('/content/drive/MyDrive/Assignment23/MNIST_persian/'+ main_folders[0])\n",
        "\n",
        "for i in range(10):\n",
        "    dirName = '/content/drive/MyDrive/Assignment23/' + str(i)\n",
        "    try:\n",
        "        os.makedirs(dirName)\n",
        "        print(\"Directory \", dirName,  \" Created \")\n",
        "    except FileExistsError:\n",
        "        print(\"Directory \", dirName,  \" already exists\")\n",
        "\n",
        "for i in range(1, len(main_folders)+1):\n",
        "    for j in range(len(sub_folders)):\n",
        "        src = '/content/drive/MyDrive/Assignment23/MNIST_persian/' + str(i) + '/' + str(j) + '.jpg'\n",
        "        dst = '/content/drive/MyDrive/Assignment23/' + str(j) + '/' + str(i) + '_' + str(j) + '.jpg'\n",
        "        img = cv2.imread(src)\n",
        "        cv2.imwrite(dst, img)"
      ],
      "execution_count": null,
      "outputs": []
    },
    {
      "cell_type": "code",
      "metadata": {
        "id": "7Gd4D2pfhdMT",
        "colab": {
          "base_uri": "https://localhost:8080/",
          "height": 286
        },
        "outputId": "2a59c762-0b1b-4eb7-8899-e829f8cc2fdf"
      },
      "source": [
        "import cv2\n",
        "import numpy as np\n",
        "import matplotlib.pyplot as plt\n",
        "\n",
        "img = cv2.imread('/content/drive/MyDrive/Assignment23/sudoku.tif')\n",
        "img = cv2.cvtColor(img, cv2.COLOR_RGB2GRAY)\n",
        "img = cv2.equalizeHist(img)\n",
        "c = 0\n",
        "flag = True\n",
        "find_corner_flag = False\n",
        "board_corners = []\n",
        "\n",
        "# finde borders and crop image\n",
        "for i in range(img.shape[0]):\n",
        "  for j in range(img.shape[1]):\n",
        "    if not find_corner_flag: # find the top lef corner\n",
        "      if img[i,j] < 40:\n",
        "        if (img[i, j+1] < 40) and (img[i, j+2] < 40) and (img[i+1, j] < 40):\n",
        "          board_corners.append([i,j])\n",
        "          find_corner_flag = True\n",
        "    else:                    # find the top right corner\n",
        "      if img[i,j] > 200:\n",
        "        if (img[i, j+1] > 200) and (img[i, j+2] > 200) and (img[i, j+3] > 200):\n",
        "          board_corners.append([i,j])\n",
        "          break\n",
        "  if len(board_corners) == 2:\n",
        "    break\n",
        "\n",
        "soduko_width = board_corners[1][1] - board_corners[0][1]\n",
        "img = img[board_corners[0][0]:board_corners[0][0] + soduko_width, board_corners[0][1]:board_corners[0][1] + soduko_width]\n",
        "square = int(img.shape[0]/9)\n",
        "plt.imshow(img, cmap='gray')\n",
        "\n",
        "# find non-empty cells and save as image\n",
        "for i in range(0, img.shape[0] - square, square):\n",
        "  c = 0\n",
        "  for j in range(0, img.shape[1] - square, square):\n",
        "    flag = True\n",
        "    count = 0\n",
        "    for k in range(int(i + square* (1/5)) , int(i + square* (4/5))):\n",
        "      for l in range(int(c * square + square* (1/5)), int(c * square + square* (4/5))):\n",
        "        if img[k,l] < 40:\n",
        "          count += 1\n",
        "          if count >= 40:\n",
        "            cv2.imwrite(f'/content/drive/MyDrive/Assignment23/sudoku-parts/{k}{l}.jpg', img[i:i+square, j:j+square])\n",
        "            flag = not flag\n",
        "            break\n",
        "      if not flag:\n",
        "        break\n",
        "    c += 1\n",
        "    \n",
        "cv2.waitKey()\n"
      ],
      "execution_count": 4,
      "outputs": [
        {
          "output_type": "execute_result",
          "data": {
            "text/plain": [
              "-1"
            ]
          },
          "metadata": {
            "tags": []
          },
          "execution_count": 4
        },
        {
          "output_type": "display_data",
          "data": {
            "image/png": "[encoded data removed]",
            "text/plain": [
              "<Figure size 432x288 with 1 Axes>"
            ]
          },
          "metadata": {
            "tags": [],
            "needs_background": "light"
          }
        }
      ]
    }
  ]
}
