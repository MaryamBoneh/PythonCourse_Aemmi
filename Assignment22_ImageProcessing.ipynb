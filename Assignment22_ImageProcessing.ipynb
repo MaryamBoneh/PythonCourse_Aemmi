{
  "nbformat": 4,
  "nbformat_minor": 0,
  "metadata": {
    "colab": {
      "name": "Assignment22-PythonCourse.ipynb",
      "provenance": [],
      "collapsed_sections": [],
      "toc_visible": true,
      "mount_file_id": "1CHR8N6_Dk6IeeZp1vYZTyvybxRgPkn2y",
      "authorship_tag": "ABX9TyMnBDPNcK+r5IHLMe0MxES0",
      "include_colab_link": true
    },
    "kernelspec": {
      "name": "python3",
      "display_name": "Python 3"
    },
    "language_info": {
      "name": "python"
    }
  },
  "cells": [
    {
      "cell_type": "markdown",
      "metadata": {
        "id": "view-in-github",
        "colab_type": "text"
      },
      "source": [
        "<a href=\"https://colab.research.google.com/github/MaryamBoneh/PythonCourse_Aemmi/blob/master/Assignment22_ImageProcessing.ipynb\" target=\"_parent\"><img src=\"https://colab.research.google.com/assets/colab-badge.svg\" alt=\"Open In Colab\"/></a>"
      ]
    },
    {
      "cell_type": "code",
      "metadata": {
        "id": "INCBAYDIcPY7",
        "colab": {
          "base_uri": "https://localhost:8080/"
        },
        "outputId": "687dcbe5-f0d0-4242-8c64-223127877ade"
      },
      "source": [
        "import cv2\n",
        "import numpy as np\n",
        "\n",
        "\n",
        "img1 = cv2.imread('/content/drive/MyDrive/Assignment22/a.tif')\n",
        "img2 = cv2.imread('/content/drive/MyDrive/Assignment22/b.tif')\n",
        "\n",
        "img1 = cv2.cvtColor(img1, cv2.COLOR_RGB2GRAY)\n",
        "img2 = cv2.cvtColor(img2, cv2.COLOR_RGB2GRAY)\n",
        "\n",
        "result = cv2.subtract(img2, img1)\n",
        "\n",
        "cv2.imwrite('/content/drive/MyDrive/Assignment22/result_1.jpg', result)\n",
        "cv2.waitKey()\n"
      ],
      "execution_count": null,
      "outputs": [
        {
          "output_type": "execute_result",
          "data": {
            "text/plain": [
              "-1"
            ]
          },
          "metadata": {
            "tags": []
          },
          "execution_count": 8
        }
      ]
    },
    {
      "cell_type": "code",
      "metadata": {
        "id": "1XRwsFnP6wjV",
        "colab": {
          "base_uri": "https://localhost:8080/"
        },
        "outputId": "48da585d-3154-4e9a-aaa3-e7a5d5745505"
      },
      "source": [
        "import cv2 as cv\n",
        "import numpy as np\n",
        "\n",
        "images =  [[0 for i in range(5)] for j in range(4)]\n",
        "\n",
        "for i in range(4):\n",
        "    for j in range(5):\n",
        "        images[i][j] = cv.imread('/content/drive/MyDrive/Assignment22/black_hole/' + str(i + 1) + '/' + str(j + 1) + '.jpg')\n",
        "        images[i][j] = cv.cvtColor(images[i][j], cv.COLOR_BGR2GRAY)\n",
        "\n",
        "image_without_noise = [0 for i in range(4)]\n",
        "\n",
        "for i in range(4):\n",
        "    for j in range(5):\n",
        "        image_without_noise[i] = image_without_noise[i] + (images[i][j] / 5)\n",
        "\n",
        "final_image = np.zeros((2000, 2000), dtype=np.uint8)\n",
        "\n",
        "final_image[0:1000, 0:1000] = image_without_noise[0]\n",
        "final_image[0:1000, 1000:2000] = image_without_noise[1]\n",
        "final_image[1000:2000, 0:1000] = image_without_noise[2]\n",
        "final_image[1000:2000, 1000:2000] = image_without_noise[3]\n",
        "\n",
        "cv.imwrite('/content/drive/MyDrive/Assignment22/result_2.jpg', final_image)\n",
        "cv.waitKey()"
      ],
      "execution_count": null,
      "outputs": [
        {
          "output_type": "execute_result",
          "data": {
            "text/plain": [
              "-1"
            ]
          },
          "metadata": {
            "tags": []
          },
          "execution_count": 20
        }
      ]
    },
    {
      "cell_type": "markdown",
      "metadata": {
        "id": "5nF7Nv7tZHLY"
      },
      "source": [
        ""
      ]
    },
    {
      "cell_type": "code",
      "metadata": {
        "colab": {
          "base_uri": "https://localhost:8080/"
        },
        "id": "Ff6ohQ-W7Kcw",
        "outputId": "1d1e045f-519b-4880-d113-1c7a5a83d90e"
      },
      "source": [
        "import cv2\n",
        "\n",
        "origin = cv2.imread('/content/drive/MyDrive/Assignment22/board - origin.bmp')\n",
        "test = cv2.imread('/content/drive/MyDrive/Assignment22/board - test.bmp')\n",
        "\n",
        "origin = cv2.cvtColor(origin, cv2.COLOR_RGB2GRAY)\n",
        "test = cv2.cvtColor(test, cv2.COLOR_RGB2GRAY)\n",
        "test = cv2.flip(test, 1)\n",
        "\n",
        "result = cv2.subtract(test, origin)\n",
        "\n",
        "cv.imwrite('/content/drive/MyDrive/Assignment22/result_3.jpg', result)\n",
        "cv.waitKey()"
      ],
      "execution_count": null,
      "outputs": [
        {
          "output_type": "execute_result",
          "data": {
            "text/plain": [
              "-1"
            ]
          },
          "metadata": {
            "tags": []
          },
          "execution_count": 23
        }
      ]
    },
    {
      "cell_type": "code",
      "metadata": {
        "colab": {
          "base_uri": "https://localhost:8080/"
        },
        "id": "3qHd3wwjc_-i",
        "outputId": "200ee740-4eff-4846-dc61-8b7d5d2423b7"
      },
      "source": [
        "import cv2\n",
        "\n",
        "image = cv2.imread('/content/drive/MyDrive/Assignment22/chess pieces.jpg')\n",
        "# image = cv2.cvtColor(image, cv2.COLOR_RGB2GRAY)\n",
        "height = image.shape[0]\n",
        "width = int(image.shape[1]/7)\n",
        "\n",
        "for i in range(7):\n",
        "  img = image[0: height, width*i : (width*i) + width]\n",
        "  cv.imwrite(f'/content/drive/MyDrive/Assignment22/Chess pieces/{i}.jpg', img)\n",
        "\n",
        "cv.waitKey()"
      ],
      "execution_count": null,
      "outputs": [
        {
          "output_type": "execute_result",
          "data": {
            "text/plain": [
              "-1"
            ]
          },
          "metadata": {
            "tags": []
          },
          "execution_count": 50
        }
      ]
    },
    {
      "cell_type": "code",
      "metadata": {
        "colab": {
          "base_uri": "https://localhost:8080/"
        },
        "id": "Wy_IJcMz_5Yk",
        "outputId": "c6472d04-a60d-4e89-c821-db7c25fd51f0"
      },
      "source": [
        "import cv2\n",
        "import numpy as np\n",
        "\n",
        "images = []\n",
        "for i in range(15):\n",
        "    image = cv2.imread(f'/content/drive/MyDrive/Assignment22/highway/h{i}.jpg')\n",
        "    image = cv2.cvtColor(image, cv2.COLOR_RGB2GRAY)\n",
        "    image = image // 14\n",
        "    images.append(image)\n",
        "\n",
        "image_result = np.zeros(images[0].shape, dtype= 'uint8')\n",
        "\n",
        "for img in images:\n",
        "  image_result += img\n",
        "\n",
        "cv2.imwrite('/content/drive/MyDrive/Assignment22/result_5.jpg', image_result)\n",
        "cv2.waitKey()\n"
      ],
      "execution_count": null,
      "outputs": [
        {
          "output_type": "execute_result",
          "data": {
            "text/plain": [
              "-1"
            ]
          },
          "metadata": {
            "tags": []
          },
          "execution_count": 6
        }
      ]
    }
  ]
}