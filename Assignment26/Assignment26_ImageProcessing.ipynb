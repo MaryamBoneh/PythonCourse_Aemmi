{
  "nbformat": 4,
  "nbformat_minor": 0,
  "metadata": {
    "colab": {
      "name": "Assignment26-ImageProcessing",
      "provenance": [],
      "collapsed_sections": [],
      "mount_file_id": "1gq8D8R4hLvqlxgmUYTVJKc-TlApYvEnt",
      "authorship_tag": "ABX9TyN/a5IRK0dBOT+hB1Kc2Lnc",
      "include_colab_link": true
    },
    "kernelspec": {
      "name": "python3",
      "display_name": "Python 3"
    },
    "language_info": {
      "name": "python"
    }
  },
  "cells": [
    {
      "cell_type": "markdown",
      "metadata": {
        "id": "view-in-github",
        "colab_type": "text"
      },
      "source": [
        "<a href=\"https://colab.research.google.com/github/MaryamBoneh/PythonCourse_Aemmi/blob/master/Assignment26_ImageProcessing.ipynb\" target=\"_parent\"><img src=\"https://colab.research.google.com/assets/colab-badge.svg\" alt=\"Open In Colab\"/></a>"
      ]
    },
    {
      "cell_type": "code",
      "metadata": {
        "id": "yksTw_rW4Kq_"
      },
      "source": [
        "import cv2, os\n",
        "import numpy as np\n",
        "import matplotlib.pyplot as plt\n",
        "\n",
        "img = cv2.imread('/content/drive/MyDrive/Assignment26/mnist.png')\n",
        "img = cv2.cvtColor(img, cv2.COLOR_RGB2GRAY)\n",
        "\n",
        "flag = False\n",
        "c = 0\n",
        "\n",
        "for i in range(img.shape[0]):\n",
        "  finde_white = False\n",
        "  if c == img.shape[1]:\n",
        "    square = i + 1\n",
        "    break\n",
        "  c = 0\n",
        "  for j in range(img.shape[1]):\n",
        "    if not flag:\n",
        "      if img[i,j] > 220 and img[i,j+1] > 220 and img[i+1,j] > 220:\n",
        "        flag = True\n",
        "    else:\n",
        "      if img[i, j] < 30:\n",
        "        c += 1\n",
        "      else:\n",
        "        finde_white = True\n",
        "        break\n",
        "    if finde_white:\n",
        "      break\n",
        "\n",
        "# creat folders\n",
        "for i in range(10):\n",
        "    dirName = '/content/drive/MyDrive/Assignment26/mnist/' + str(i)\n",
        "    try:\n",
        "        os.makedirs(dirName)\n",
        "        print(\"Directory \", dirName,  \" Created \")\n",
        "    except FileExistsError:\n",
        "        print(\"Directory \", dirName,  \" already exists\")\n",
        "\n",
        "# save numbers pic \n",
        "for e, i in enumerate(range(0, img.shape[0], square)):\n",
        "  folder = e // 5\n",
        "  for j in range(0, img.shape[1], square):\n",
        "    cv2.imwrite(f'/content/drive/MyDrive/Assignment26/mnist/{folder}/{i}{j}.jpg', img[i:i+square, j:j+square])\n",
        "\n",
        "cv2.waitKey()"
      ],
      "execution_count": null,
      "outputs": []
    }
  ]
}